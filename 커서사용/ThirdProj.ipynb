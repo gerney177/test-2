{
 "cells": [
  {
   "cell_type": "code",
   "execution_count": null,
   "metadata": {},
   "outputs": [],
   "source": [
    "# Colab 전용 설치/환경 설정\n",
    "# 1) 필수 패키지 설치 후 런타임 재시작 필요할 수 있습니다.\n",
    "# 2) GOOGLE_API_KEY는 개인 키로 설정하세요.\n",
    "\n",
    "# !pip -q install --upgrade langchain langchain-community langchain-google-genai faiss-cpu langgraph\n",
    "\n",
    "import os\n",
    "if \"GOOGLE_API_KEY\" not in os.environ or not os.environ[\"GOOGLE_API_KEY\"]:\n",
    "    # 사용 전 아래 주석을 해제하고 본인 키로 설정하세요. 설정 후 런타임 재시작이 필요할 수 있습니다.\n",
    "    # os.environ[\"GOOGLE_API_KEY\"] = \"YOUR_GOOGLE_API_KEY\"\n",
    "    pass\n",
    "\n",
    "print(\"GOOGLE_API_KEY set:\", bool(os.environ.get(\"GOOGLE_API_KEY\")))\n"
   ]
  },
  {
   "cell_type": "code",
   "execution_count": null,
   "metadata": {
    "id": "LrR4uOAcKBKX"
   },
   "outputs": [],
   "source": [
    "# Colab 환경 준비 및 Gemini 사용으로 전환\n",
    "# 이 노트북은 Colab에서 실행되도록 설계되었습니다.\n",
    "# 주의: OpenRouter/Neo4j 의존성을 제거하고, Google Gemini + FAISS를 사용합니다.\n",
    "\n",
    "import os\n",
    "import json\n",
    "from typing import TypedDict, Optional\n",
    "from langgraph.graph import StateGraph, END\n",
    "from langchain_core.pydantic_v1 import Field\n",
    "\n",
    "# 필수 라이브러리 설치 셀은 아래에 별도 제공합니다.\n",
    "# GOOGLE_API_KEY는 환경변수로 설정해야 합니다.\n",
    "\n",
    "GOOGLE_API_KEY = os.environ.get(\"GOOGLE_API_KEY\", \"\")\n",
    "if not GOOGLE_API_KEY:\n",
    "    raise RuntimeError(\"GOOGLE_API_KEY 환경변수가 필요합니다. Colab에서 런타임 재시작 후 다시 실행하세요.\")\n",
    "\n",
    "from langchain_google_genai import ChatGoogleGenerativeAI, GoogleGenerativeAIEmbeddings\n",
    "\n",
    "# Gemini 모델 설정\n",
    "llm = ChatGoogleGenerativeAI(model=\"gemini-1.5-pro\", google_api_key=GOOGLE_API_KEY)\n",
    "\n",
    "# 간단한 로컬 코퍼스(예시) + FAISS로 대체\n",
    "from langchain_community.vectorstores import FAISS\n",
    "from langchain.text_splitter import RecursiveCharacterTextSplitter\n",
    "\n",
    "embeddings = GoogleGenerativeAIEmbeddings(google_api_key=GOOGLE_API_KEY)\n",
    "\n",
    "# 예시 전략 문서 (실제 프로젝트에서는 Colab 드라이브/파일에서 적재 가능)\n",
    "STRATEGY_DOCS = [\n",
    "    \"볼린저 밴드 전략은 이동평균과 표준편차 밴드를 활용해 과매수/과매도 구간을 판단합니다.\",\n",
    "    \"RSI 전략은 상대강도지수를 사용하여 과매수/과매도를 판별합니다.\",\n",
    "    \"MACD 전략은 단기/장기 이동평균선의 차이와 시그널선을 비교합니다.\"\n",
    "]\n",
    "\n",
    "text_splitter = RecursiveCharacterTextSplitter(chunk_size=500, chunk_overlap=50)\n",
    "chunks = []\n",
    "for doc in STRATEGY_DOCS:\n",
    "    chunks.extend(text_splitter.split_text(doc))\n",
    "\n",
    "vector_store = FAISS.from_texts(chunks, embedding=embeddings)\n",
    "retriever = vector_store.as_retriever(search_kwargs={\"k\": 3})"
   ]
  },
  {
   "cell_type": "code",
   "execution_count": null,
   "metadata": {
    "id": "GRJSZeVjUM8X"
   },
   "outputs": [],
   "source": [
    "# ====================\n",
    "# LangGraph 상태 및 간단 유틸 정의\n",
    "# ====================\n",
    "class AgentState(TypedDict):\n",
    "    \"\"\"LangGraph 워크플로우의 상태를 정의합니다.\"\"\"\n",
    "    query: str  # 사용자의 질문\n",
    "    trading_data: Optional[str] = Field(None, description=\"사용자 매매 기록 데이터\")\n",
    "    strategy_info: Optional[str] = Field(None, description=\"검색된 투자 전략 정보\")\n",
    "    final_answer: Optional[str] = Field(None, description=\"최종 답변\")\n",
    "    error: Optional[str] = Field(None, description=\"에러 메시지\")\n",
    "\n",
    "# 간단 매매기록 조회 (더미)\n",
    "def get_user_trading_data(user_input: str) -> str:\n",
    "    dummy_trading_data = {\n",
    "        \"종목\": \"AAPL\",\n",
    "        \"매수_2024-03-01\": \"170 USD, 10주\",\n",
    "        \"매도_2024-05-15\": \"195 USD, 10주\",\n",
    "        \"수익률\": \"+14.7%\"\n",
    "    }\n",
    "    return json.dumps(dummy_trading_data, indent=2)\n",
    "\n",
    "# FAISS 기반 간단 전략 검색\n",
    "def search_strategy_info(query: str) -> str:\n",
    "    docs = retriever.get_relevant_documents(query)\n",
    "    return \"\\n\\n\".join([doc.page_content for doc in docs])"
   ]
  },
  {
   "cell_type": "code",
   "execution_count": null,
   "metadata": {
    "executionInfo": {
     "elapsed": 7,
     "status": "ok",
     "timestamp": 1758607204163,
     "user": {
      "displayName": "Taegeon Kim",
      "userId": "14219822748463495570"
     },
     "user_tz": -540
    },
    "id": "F09wZSDJKDVM"
   },
   "outputs": [],
   "source": [
    "# ====================\n",
    "# LangGraph 노드 정의 (단순화)\n",
    "# ====================\n",
    "\n",
    "def retrieve_data_node(state: AgentState):\n",
    "    trading_data = state.get(\"trading_data\") or get_user_trading_data(state[\"query\"])\n",
    "    strategy_info = state.get(\"strategy_info\") or search_strategy_info(state[\"query\"])\n",
    "    return {\"trading_data\": trading_data, \"strategy_info\": strategy_info}\n",
    "\n",
    "\n",
    "def generate_response_node(state: AgentState):\n",
    "    prompt = (\n",
    "        f\"당신은 개인 투자자의 매매 기록과 투자 전략을 분석하는 AI 전문가입니다. \"\n",
    "        f\"아래 정보를 바탕으로 사용자의 질문에 대해 전문적인 조언을 제공하세요.\\n\\n\"\n",
    "        f\"사용자 매매 기록: {state.get('trading_data')}\\n\\n\"\n",
    "        f\"투자 전략 정보: {state.get('strategy_info')}\\n\\n\"\n",
    "        f\"질문: {state['query']}\\n\\n\"\n",
    "        f\"투자 조언:\"\n",
    "    )\n",
    "    response = llm.invoke(prompt)\n",
    "    return {\"final_answer\": response.content}\n",
    "\n",
    "\n",
    "def router_node(state: AgentState) -> str:\n",
    "    if state.get(\"trading_data\") and state.get(\"strategy_info\"):\n",
    "        return \"generate_response\"\n",
    "    return \"retrieve_data\""
   ]
  },
  {
   "cell_type": "code",
   "execution_count": null,
   "metadata": {
    "id": "Ab2xcaQ62wkl"
   },
   "outputs": [],
   "source": [
    "# ====================\n",
    "# LangGraph 구축 및 실행\n",
    "# ====================\n",
    "workflow = StateGraph(AgentState)\n",
    "workflow.add_node(\"retrieve_data\", retrieve_data_node)\n",
    "workflow.add_node(\"generate_response\", generate_response_node)\n",
    "\n",
    "workflow.add_conditional_edges(\n",
    "    \"retrieve_data\",\n",
    "    router_node,\n",
    "    {\n",
    "        \"retrieve_data\": \"retrieve_data\",\n",
    "        \"generate_response\": \"generate_response\",\n",
    "    },\n",
    ")\n",
    "\n",
    "workflow.set_entry_point(\"retrieve_data\")\n",
    "workflow.add_edge(\"generate_response\", END)\n",
    "\n",
    "app = workflow.compile()\n",
    "\n",
    "# 실행 예시\n",
    "initial_state = {\"query\": \"내 AAPL 매매 기록을 바탕으로 볼린저 밴드 전략에 대해 조언해줘\"}\n",
    "result = app.invoke(initial_state)\n",
    "\n",
    "print(\"\\n\\n--- 최종 결과 ---\")\n",
    "print(result.get(\"final_answer\"))"
   ]
  }
 ],
 "metadata": {
  "accelerator": "GPU",
  "colab": {
   "authorship_tag": "ABX9TyMHRhYRBeKDr21/3M+XYHxZ",
   "gpuType": "T4",
   "provenance": []
  },
  "kernelspec": {
   "display_name": "Python 3",
   "name": "python3"
  },
  "language_info": {
   "name": "python"
  }
 },
 "nbformat": 4,
 "nbformat_minor": 0
}
